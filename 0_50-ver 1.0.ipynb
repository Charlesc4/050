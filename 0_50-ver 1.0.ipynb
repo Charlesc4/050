{
 "cells": [
  {
   "cell_type": "markdown",
   "metadata": {},
   "source": [
    "# 0 a 50 game"
   ]
  },
  {
   "cell_type": "code",
   "execution_count": 1,
   "metadata": {},
   "outputs": [],
   "source": [
    "import random\n",
    "import subprocess\n",
    "import platform\n",
    "from playsound import playsound"
   ]
  },
  {
   "cell_type": "code",
   "execution_count": 2,
   "metadata": {},
   "outputs": [
    {
     "data": {
      "text/plain": [
       "'Darwin'"
      ]
     },
     "execution_count": 2,
     "metadata": {},
     "output_type": "execute_result"
    }
   ],
   "source": [
    "platform.system()"
   ]
  },
  {
   "cell_type": "code",
   "execution_count": 3,
   "metadata": {},
   "outputs": [],
   "source": [
    "x = random.randrange(0,50)\n",
    "cont = 0\n",
    "audio_file = \"palmas.wav\""
   ]
  },
  {
   "cell_type": "code",
   "execution_count": 4,
   "metadata": {},
   "outputs": [
    {
     "name": "stdout",
     "output_type": "stream",
     "text": [
      "Escolha um número de 0 a 50\n",
      "30\n",
      "Nº número alto, tente um número menor.\n",
      "\n",
      "Escolha um número de 0 a 50\n",
      "15\n",
      "Nº número alto, tente um número menor.\n",
      "\n",
      "Escolha um número de 0 a 50\n",
      "5\n",
      "Nº número alto, tente um número menor.\n",
      "\n",
      "Escolha um número de 0 a 50\n",
      "1\n",
      "Nº número baixo, tente um número maior.\n",
      "\n",
      "Escolha um número de 0 a 50\n",
      "3\n",
      "Nº número baixo, tente um número maior.\n",
      "\n",
      "Escolha um número de 0 a 50\n",
      "4\n",
      "Você acertou\n",
      "Fim de jogo\n"
     ]
    }
   ],
   "source": [
    "for cont in range(10): \n",
    "    \n",
    "    y = int (input(\"Escolha um número de 0 a 50\\n\"))\n",
    "    \n",
    "    if y == x:\n",
    "        print (\"Você acertou\")\n",
    "        if platform.system() == 'Windows':\n",
    "            playsound('palmas.wav')\n",
    "        else:\n",
    "            return_code = subprocess.call([\"afplay\", audio_file])\n",
    "        break\n",
    "    elif (y>x) and (y<=50):\n",
    "        print (\"Nº número alto, tente um número menor.\\n\")\n",
    "    elif (y<x):\n",
    "        print (\"Nº número baixo, tente um número maior.\\n\")\n",
    "    elif (y>50):\n",
    "        print (\"Número maior que 50, tente novamente.\\n\")\n",
    "    \n",
    "    cont += 1\n",
    "print (\"Fim de jogo\")\n"
   ]
  },
  {
   "cell_type": "code",
   "execution_count": 5,
   "metadata": {},
   "outputs": [],
   "source": [
    "# tocar as palmas funcionou no macOs return_code = subprocess.call([\"afplay\", audio_file])\n",
    "# tocar as palmas funcionou no Windows playsound('palmas.wav')"
   ]
  },
  {
   "cell_type": "code",
   "execution_count": null,
   "metadata": {},
   "outputs": [],
   "source": []
  },
  {
   "cell_type": "code",
   "execution_count": null,
   "metadata": {},
   "outputs": [],
   "source": []
  },
  {
   "cell_type": "code",
   "execution_count": null,
   "metadata": {},
   "outputs": [],
   "source": []
  }
 ],
 "metadata": {
  "kernelspec": {
   "display_name": "Python 3",
   "language": "python",
   "name": "python3"
  },
  "language_info": {
   "codemirror_mode": {
    "name": "ipython",
    "version": 3
   },
   "file_extension": ".py",
   "mimetype": "text/x-python",
   "name": "python",
   "nbconvert_exporter": "python",
   "pygments_lexer": "ipython3",
   "version": "3.7.4"
  }
 },
 "nbformat": 4,
 "nbformat_minor": 2
}
